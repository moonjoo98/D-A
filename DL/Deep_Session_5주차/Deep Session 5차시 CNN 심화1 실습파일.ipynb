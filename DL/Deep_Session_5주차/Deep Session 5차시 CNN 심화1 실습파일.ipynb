{
 "cells": [
  {
   "cell_type": "markdown",
   "id": "2f85b298",
   "metadata": {},
   "source": [
    "## LeNet Architecture"
   ]
  },
  {
   "cell_type": "markdown",
   "id": "7ae959a9",
   "metadata": {},
   "source": [
    "<img src='http://drive.google.com/uc?export=view&id=1MevERvWOuYttJyTaFbGDJggB3luPD0TP' /><br>"
   ]
  },
  {
   "cell_type": "markdown",
   "id": "7febc0ff",
   "metadata": {},
   "source": [
    "LeNet-5는 32x32 크기의 흑백 이미지에서 학습된 7 layer Convolutional Neural Network  \n",
    "\n",
    "[Conv(C1) - Subsampling(S2) - Conv(C3) - Subsampling(S4) - Conv(C5) - FC - FC]  \n",
    "\n",
    "**Input**  \n",
    "입력 이미지는 32x32  \n",
    "**Layer C1**  \n",
    "5x5 크기의 kernel 6개와 stride=1, convolutional layer  \n",
    "입력 크기는 32x32x1 이고, 출력 크기는 28x28x6  \n",
    "**Layer S2**   \n",
    "2x2 크기의 kernel 6개와 stride=2, subsampling layer  \n",
    "입력 크기는 28x28x6 이고, 출력 크기는 14x14x6  \n",
    "**Layer C3**  \n",
    "5x5 크기의 kernel 16개와 stride=1, convolution layer  \n",
    "입력 크기는 14x14x6 이고, 출력 크기는 10x10x16  \n",
    "**Layer S4**  \n",
    "2x2 크기의 kernel 16개와 stride=2, subsampling layer  \n",
    "입력 크기는 10x10x16 이고, 출력 크기는 5x5x16  \n",
    "**Layer C5**  \n",
    "5x5 크기의 kernel 120개와 stride=1, convolutional layer  \n",
    "입력 크기는 5x5x16 이고, 출력 크기는 1x1x120  \n",
    "**Layer F6**  \n",
    "tanh 함수를 활성화 함수로 이용하는 fully-connected layer  \n",
    "입력 유닛은 120개 이고, 출력 유닛은 84개  \n",
    "**Layer F7**  \n",
    "RBF(Euclidean Radia Basis Function unit)를 활성화 함수로 이용하는 output layer  \n",
    "입력 크기는 84 이고, 출력 크기는 10  "
   ]
  },
  {
   "cell_type": "markdown",
   "id": "444996ca",
   "metadata": {},
   "source": [
    "(1) 필요한 라이브러리 import"
   ]
  },
  {
   "cell_type": "code",
   "execution_count": 1,
   "id": "a7aef9bb",
   "metadata": {},
   "outputs": [],
   "source": [
    "import numpy as np\n",
    "from datetime import datetime\n",
    "\n",
    "import torch\n",
    "import torch.nn as nn\n",
    "import torch.nn.functional as F\n",
    "from torch.utils.data import DataLoader\n",
    "\n",
    "from torchvision import datasets, transforms\n",
    "\n",
    "import matplotlib.pyplot as plt\n",
    "\n",
    "DEVICE = 'cuda' if torch.cuda.is_available() else 'cpu' "
   ]
  },
  {
   "cell_type": "markdown",
   "id": "68c4d89b",
   "metadata": {},
   "source": [
    "(2) Parameters 설정하기"
   ]
  },
  {
   "cell_type": "code",
   "execution_count": 2,
   "id": "bf391bda",
   "metadata": {},
   "outputs": [],
   "source": [
    "# parameters\n",
    "RANDOM_SEED = 42\n",
    "LEARNING_RATE = 0.001\n",
    "BATCH_SIZE = 32\n",
    "N_EPOCHS = 15"
   ]
  },
  {
   "cell_type": "markdown",
   "id": "8f7c4ccf",
   "metadata": {},
   "source": [
    "(3) 정확도를 구하는 function과 손실을 시각화 하는 function 정의"
   ]
  },
  {
   "cell_type": "code",
   "execution_count": 3,
   "id": "1fab7f5d",
   "metadata": {},
   "outputs": [],
   "source": [
    "def get_accuracy(model, data_loader, device):\n",
    "    '''\n",
    "    전체 data_loader에 대한 예측의 정확도를 계산하는 함수\n",
    "    '''\n",
    "    \n",
    "    correct_pred = 0 \n",
    "    n = 0\n",
    "    \n",
    "    with torch.no_grad():\n",
    "        model.eval()\n",
    "        for X, y_true in data_loader:\n",
    "\n",
    "            X = X.to(device)\n",
    "            y_true = y_true.to(device)\n",
    "\n",
    "            _, y_prob = model(X)\n",
    "            _, predicted_labels = torch.max(y_prob, 1)\n",
    "\n",
    "            n += y_true.size(0)\n",
    "            correct_pred += (predicted_labels == y_true).sum()\n",
    "\n",
    "    return correct_pred.float() / n\n",
    "\n",
    "def plot_losses(train_losses, valid_losses):\n",
    "    '''\n",
    "    training과 validation loss를 시각화하는 함수\n",
    "    '''\n",
    "    \n",
    "    # plot style을 seaborn으로 설정\n",
    "    plt.style.use('seaborn')\n",
    "\n",
    "    train_losses = np.array(train_losses) \n",
    "    valid_losses = np.array(valid_losses)\n",
    "\n",
    "    fig, ax = plt.subplots(figsize = (8, 4.5))\n",
    "\n",
    "    ax.plot(train_losses, color='blue', label='Training loss') \n",
    "    ax.plot(valid_losses, color='red', label='Validation loss')\n",
    "    ax.set(title=\"Loss over epochs\", \n",
    "            xlabel='Epoch',\n",
    "            ylabel='Loss') \n",
    "    ax.legend()\n",
    "    fig.show()\n",
    "    \n",
    "    # plot style을 기본값으로 설정\n",
    "    plt.style.use('default')"
   ]
  },
  {
   "cell_type": "markdown",
   "id": "ec55ba50",
   "metadata": {},
   "source": [
    "(4) training data에 사용되는 helper 함수 정의하기"
   ]
  },
  {
   "cell_type": "code",
   "execution_count": 4,
   "id": "acde3c35",
   "metadata": {},
   "outputs": [],
   "source": [
    "def train(train_loader, model, criterion, optimizer, device):\n",
    "    '''\n",
    "    training loop의 training 단계에 대한 함수\n",
    "    '''\n",
    "\n",
    "    model.train()\n",
    "    running_loss = 0\n",
    "    \n",
    "    for X, y_true in train_loader:\n",
    "\n",
    "        optimizer.zero_grad()\n",
    "        \n",
    "        X = X.to(device)\n",
    "        y_true = y_true.to(device)\n",
    "    \n",
    "        # 순전파\n",
    "        y_hat, _ = model(X) \n",
    "        loss = criterion(y_hat, y_true) \n",
    "        running_loss += loss.item() * X.size(0)\n",
    "\n",
    "        # 역전파\n",
    "        loss.backward()\n",
    "        optimizer.step()\n",
    "        \n",
    "    epoch_loss = running_loss / len(train_loader.dataset)\n",
    "    return model, optimizer, epoch_loss"
   ]
  },
  {
   "cell_type": "markdown",
   "id": "e3a26c18",
   "metadata": {},
   "source": [
    "(5) validation data에 사용되는 함수 정의하기"
   ]
  },
  {
   "cell_type": "code",
   "execution_count": 5,
   "id": "84ba0e6f",
   "metadata": {},
   "outputs": [],
   "source": [
    "#validation 단계에서는 역전파를 진행하지 않습니다.\n",
    "\n",
    "def validate(valid_loader, model, criterion, device):\n",
    "    '''\n",
    "    training loop의 validation 단계에 대한 함수\n",
    "    '''\n",
    "   \n",
    "    model.eval()\n",
    "    running_loss = 0\n",
    "    \n",
    "    for X, y_true in valid_loader:\n",
    "    \n",
    "        X = X.to(device)\n",
    "        y_true = y_true.to(device)\n",
    "\n",
    "        # 순전파와 손실 기록하기\n",
    "        y_hat, _ = model(X) \n",
    "        loss = criterion(y_hat, y_true) \n",
    "        running_loss += loss.item() * X.size(0)\n",
    "\n",
    "    epoch_loss = running_loss / len(valid_loader.dataset)\n",
    "        \n",
    "    return model, epoch_loss"
   ]
  },
  {
   "cell_type": "markdown",
   "id": "139e03a4",
   "metadata": {},
   "source": [
    "(6) training loop 정의하기"
   ]
  },
  {
   "cell_type": "code",
   "execution_count": 6,
   "id": "b7df8ec9",
   "metadata": {},
   "outputs": [],
   "source": [
    "def training_loop(model, criterion, optimizer, train_loader, valid_loader, epochs, device, print_every=1):\n",
    "    '''\n",
    "    전체 training loop를 정의하는 함수\n",
    "    '''\n",
    "    \n",
    "    # metrics를 저장하기 위한 객체 설정\n",
    "    best_loss = 1e10\n",
    "    train_losses = []\n",
    "    valid_losses = []\n",
    " \n",
    "    # model 학습하기\n",
    "    for epoch in range(0, epochs):\n",
    "\n",
    "        # training\n",
    "        model, optimizer, train_loss = train(train_loader, model, criterion, optimizer, device)\n",
    "        train_losses.append(train_loss)\n",
    "\n",
    "        # validation\n",
    "        with torch.no_grad():\n",
    "            model, valid_loss = validate(valid_loader, model, criterion, device)\n",
    "            valid_losses.append(valid_loss)\n",
    "\n",
    "        if epoch % print_every == (print_every - 1):\n",
    "            \n",
    "            train_acc = get_accuracy(model, train_loader, device=device)\n",
    "            valid_acc = get_accuracy(model, valid_loader, device=device)\n",
    "                \n",
    "            print(f'{datetime.now().time().replace(microsecond=0)} --- '\n",
    "                  f'Epoch: {epoch}\\t'\n",
    "                  f'Train loss: {train_loss:.4f}\\t'\n",
    "                  f'Valid loss: {valid_loss:.4f}\\t'\n",
    "                  f'Train accuracy: {100 * train_acc:.2f}\\t'\n",
    "                  f'Valid accuracy: {100 * valid_acc:.2f}')\n",
    "\n",
    "    plot_losses(train_losses, valid_losses)\n",
    "    \n",
    "    return model, optimizer, (train_losses, valid_losses)"
   ]
  },
  {
   "cell_type": "markdown",
   "id": "00a1ed97",
   "metadata": {},
   "source": [
    "(7) data 준비하기"
   ]
  },
  {
   "cell_type": "code",
   "execution_count": 7,
   "id": "72acd08a",
   "metadata": {},
   "outputs": [
    {
     "name": "stderr",
     "output_type": "stream",
     "text": [
      "C:\\Users\\rudtj\\anaconda3\\lib\\site-packages\\torchvision\\datasets\\mnist.py:498: UserWarning: The given NumPy array is not writeable, and PyTorch does not support non-writeable tensors. This means you can write to the underlying (supposedly non-writeable) NumPy array using the tensor. You may want to copy the array to protect its data or make it writeable before converting it to a tensor. This type of warning will be suppressed for the rest of this program. (Triggered internally at  ..\\torch\\csrc\\utils\\tensor_numpy.cpp:180.)\n",
      "  return torch.from_numpy(parsed.astype(m[2], copy=False)).view(*s)\n"
     ]
    }
   ],
   "source": [
    "#data는 torchvision에서 제공하는 MNIST data를 사용합니다.\n",
    "\n",
    "# transforms 정의하기\n",
    "transforms = transforms.Compose([transforms.Resize((32, 32)),\n",
    "                                 transforms.ToTensor()])\n",
    "\n",
    "# data set 다운받고 생성하기\n",
    "train_dataset = datasets.MNIST(root='mnist_data', \n",
    "                               train=True, \n",
    "                               transform=transforms,\n",
    "                               download=True)\n",
    "\n",
    "valid_dataset = datasets.MNIST(root='mnist_data', \n",
    "                               train=False, \n",
    "                               transform=transforms)\n",
    "\n",
    "# data loader 정의하기\n",
    "train_loader = DataLoader(dataset=train_dataset, \n",
    "                          batch_size=BATCH_SIZE, \n",
    "                          shuffle=True)\n",
    "\n",
    "valid_loader = DataLoader(dataset=valid_dataset, \n",
    "                          batch_size=BATCH_SIZE, \n",
    "                          shuffle=False)"
   ]
  },
  {
   "cell_type": "markdown",
   "id": "7a1ce730",
   "metadata": {},
   "source": [
    "(8) 불러온 MNIST data 확인하기"
   ]
  },
  {
   "cell_type": "code",
   "execution_count": 8,
   "id": "a4c1de7e",
   "metadata": {},
   "outputs": [
    {
     "name": "stdout",
     "output_type": "stream",
     "text": [
      "X_train: torch.Size([32, 1, 32, 32]) type: torch.FloatTensor\n",
      "y_train: torch.Size([32]) type: torch.LongTensor\n"
     ]
    }
   ],
   "source": [
    "for (X_train, y_train) in train_loader:\n",
    "    print('X_train:', X_train.size(), 'type:', X_train.type())\n",
    "    print('y_train:', y_train.size(), 'type:', y_train.type())\n",
    "    break"
   ]
  },
  {
   "cell_type": "markdown",
   "id": "690b1e48",
   "metadata": {},
   "source": [
    "(9) LeNet-5 구조 정의하기"
   ]
  },
  {
   "cell_type": "code",
   "execution_count": 9,
   "id": "0f00d5fb",
   "metadata": {},
   "outputs": [],
   "source": [
    "# No.1\n",
    "\n",
    "class LeNet5(nn.Module):\n",
    "\n",
    "    def __init__(self):\n",
    "        super(LeNet5, self).__init__()\n",
    "        \n",
    "        self.conv1 = nn.Conv2d(in_channels=1, out_channels=6, kernel_size=5, stride=1)\n",
    "        \n",
    "        self.conv2 = nn.Conv2d(in_channels=6, out_channels=16, kernel_size=5, stride=1)\n",
    "        \n",
    "        self.conv3 = nn.Conv2d(in_channels=16, out_channels=120, kernel_size=5, stride=1)\n",
    "        \n",
    "        \n",
    "        self.pool = nn.AvgPool2d(kernel_size=2)\n",
    "        \n",
    "        \n",
    "        self.fc1 = nn.Linear(in_features=120, out_features=84)\n",
    "        self.fc2 = nn.Linear(in_features=84, out_features=10)\n",
    "\n",
    "\n",
    "    def forward(self, x):\n",
    "        x = self.conv1(x)\n",
    "        x = F.tanh(x)\n",
    "        x = self.pool(x)\n",
    "        x = self.conv2(x)\n",
    "        x = F.tanh(x)\n",
    "        x = self.pool(x)\n",
    "        x = self.conv3(x)\n",
    "        x = F.tanh(x)\n",
    "        \n",
    "        x = torch.flatten(x, 1)\n",
    "        \n",
    "        x = self.fc1(x)\n",
    "        x = F.tanh(x)\n",
    "        x = self.fc2(x)\n",
    "        \n",
    "        probs = F.softmax(x, dim=1)\n",
    "        return x, probs"
   ]
  },
  {
   "cell_type": "code",
   "execution_count": 10,
   "id": "1c2d3f12",
   "metadata": {},
   "outputs": [],
   "source": [
    "# No.2\n",
    "\n",
    "class LeNet5_Sequential(nn.Module):\n",
    "\n",
    "    def __init__(self):\n",
    "        super(LeNet5_Sequential, self).__init__()\n",
    "        \n",
    "        self.feature_extractor = nn.Sequential( \n",
    "            \n",
    "            nn.Conv2d(in_channels=1, out_channels=6, kernel_size=5, stride=1),\n",
    "            nn.Tanh(),\n",
    "            nn.AvgPool2d(kernel_size=2),\n",
    "            nn.Conv2d(in_channels=6, out_channels=16, kernel_size=5, stride=1),\n",
    "            nn.Tanh(),\n",
    "            nn.AvgPool2d(kernel_size=2),\n",
    "            nn.Conv2d(in_channels=16, out_channels=120, kernel_size=5, stride=1),\n",
    "            nn.Tanh()\n",
    "        )\n",
    "\n",
    "        self.classifier = nn.Sequential(\n",
    "            nn.Linear(in_features=120, out_features=84),\n",
    "            nn.Tanh(),\n",
    "            nn.Linear(in_features=84, out_features=10),\n",
    "        )\n",
    "\n",
    "\n",
    "    def forward(self, x):\n",
    "        x = self.feature_extractor(x)\n",
    "        x = torch.flatten(x, 1)\n",
    "        x = self.classifier(x)\n",
    "        probs = F.softmax(x, dim=1)\n",
    "        return x, probs"
   ]
  },
  {
   "cell_type": "markdown",
   "id": "d0a784df",
   "metadata": {},
   "source": [
    "(10) model, optimizer, loss function 설정하기"
   ]
  },
  {
   "cell_type": "code",
   "execution_count": 11,
   "id": "9a045450",
   "metadata": {},
   "outputs": [],
   "source": [
    "torch.manual_seed(RANDOM_SEED)\n",
    "\n",
    "model = LeNet5().to(DEVICE)\n",
    "optimizer = torch.optim.Adam(model.parameters(), lr=LEARNING_RATE)\n",
    "criterion = nn.CrossEntropyLoss()"
   ]
  },
  {
   "cell_type": "markdown",
   "id": "9a2cb3de",
   "metadata": {},
   "source": [
    "(11) 신경망 학습하기"
   ]
  },
  {
   "cell_type": "code",
   "execution_count": 12,
   "id": "6e11545b",
   "metadata": {
    "collapsed": true
   },
   "outputs": [
    {
     "name": "stderr",
     "output_type": "stream",
     "text": [
      "C:\\Users\\rudtj\\anaconda3\\lib\\site-packages\\torch\\nn\\functional.py:1794: UserWarning: nn.functional.tanh is deprecated. Use torch.tanh instead.\n",
      "  warnings.warn(\"nn.functional.tanh is deprecated. Use torch.tanh instead.\")\n"
     ]
    },
    {
     "name": "stdout",
     "output_type": "stream",
     "text": [
      "23:22:42 --- Epoch: 0\tTrain loss: 0.2290\tValid loss: 0.1021\tTrain accuracy: 96.85\tValid accuracy: 96.80\n",
      "23:23:01 --- Epoch: 1\tTrain loss: 0.0762\tValid loss: 0.0621\tTrain accuracy: 98.38\tValid accuracy: 98.20\n",
      "23:23:19 --- Epoch: 2\tTrain loss: 0.0550\tValid loss: 0.0519\tTrain accuracy: 98.69\tValid accuracy: 98.50\n",
      "23:23:39 --- Epoch: 3\tTrain loss: 0.0431\tValid loss: 0.0475\tTrain accuracy: 99.11\tValid accuracy: 98.53\n",
      "23:23:59 --- Epoch: 4\tTrain loss: 0.0353\tValid loss: 0.0455\tTrain accuracy: 99.30\tValid accuracy: 98.71\n",
      "23:24:19 --- Epoch: 5\tTrain loss: 0.0287\tValid loss: 0.0414\tTrain accuracy: 99.38\tValid accuracy: 98.72\n",
      "23:24:40 --- Epoch: 6\tTrain loss: 0.0253\tValid loss: 0.0438\tTrain accuracy: 99.49\tValid accuracy: 98.56\n",
      "23:25:00 --- Epoch: 7\tTrain loss: 0.0223\tValid loss: 0.0477\tTrain accuracy: 99.54\tValid accuracy: 98.52\n",
      "23:25:19 --- Epoch: 8\tTrain loss: 0.0185\tValid loss: 0.0441\tTrain accuracy: 99.55\tValid accuracy: 98.70\n",
      "23:25:38 --- Epoch: 9\tTrain loss: 0.0173\tValid loss: 0.0493\tTrain accuracy: 99.53\tValid accuracy: 98.55\n",
      "23:25:58 --- Epoch: 10\tTrain loss: 0.0156\tValid loss: 0.0533\tTrain accuracy: 99.57\tValid accuracy: 98.50\n",
      "23:26:18 --- Epoch: 11\tTrain loss: 0.0150\tValid loss: 0.0473\tTrain accuracy: 99.67\tValid accuracy: 98.69\n",
      "23:26:38 --- Epoch: 12\tTrain loss: 0.0125\tValid loss: 0.0387\tTrain accuracy: 99.76\tValid accuracy: 98.94\n",
      "23:26:59 --- Epoch: 13\tTrain loss: 0.0118\tValid loss: 0.0444\tTrain accuracy: 99.67\tValid accuracy: 98.69\n",
      "23:27:19 --- Epoch: 14\tTrain loss: 0.0117\tValid loss: 0.0517\tTrain accuracy: 99.68\tValid accuracy: 98.68\n"
     ]
    },
    {
     "name": "stderr",
     "output_type": "stream",
     "text": [
      "<ipython-input-3-eb39e4490d4d>:43: UserWarning: Matplotlib is currently using module://ipykernel.pylab.backend_inline, which is a non-GUI backend, so cannot show the figure.\n",
      "  fig.show()\n"
     ]
    },
    {
     "data": {
      "image/png": "[encoded data removed]",
      "text/plain": [
       "<Figure size 576x324 with 1 Axes>"
      ]
     },
     "metadata": {},
     "output_type": "display_data"
    }
   ],
   "source": [
    "model, optimizer, _ = training_loop(model, criterion, optimizer, train_loader, \n",
    "                                    valid_loader, N_EPOCHS, DEVICE)"
   ]
  },
  {
   "cell_type": "markdown",
   "id": "5f1f2e91",
   "metadata": {},
   "source": [
    "## Alexnet Architecture"
   ]
  },
  {
   "cell_type": "markdown",
   "id": "2f2dfa75",
   "metadata": {},
   "source": [
    "<img src='https://t1.daumcdn.net/cfile/tistory/99FEB93C5C80B5192E' /><br>"
   ]
  },
  {
   "cell_type": "markdown",
   "id": "e75f113e",
   "metadata": {},
   "source": [
    "Alexnet은 3x227x227 크기의 이미지에서 학습되었으며, 2개의 GPU로 병렬연산을 수행한 8 layer Convolutional Neural Network이다.   \n",
    "\n",
    "[Input – Conv1 – MaxPool1 – Norm1 – Conv2 – MaxPool2 – Norm2 – Conv3 – Conv4 – Conv5 – MaxPool5 – FC6- FC7- FC8(output)]  "
   ]
  },
  {
   "cell_type": "markdown",
   "id": "be94342d",
   "metadata": {},
   "source": [
    "Alexnet 구조 정의하기"
   ]
  },
  {
   "cell_type": "code",
   "execution_count": 12,
   "id": "d80b9380",
   "metadata": {},
   "outputs": [],
   "source": [
    "class AlexNet(nn.Module):\n",
    "    def __init__(self, num_classes: int = 1000, init_weights: bool = True):\n",
    "        super(AlexNet, self).__init__()\n",
    "        self.fstblock_1 = nn.Sequential(\n",
    "            # Input Channel (RGB: 3)\n",
    "            nn.Conv2d(in_channels=3, out_channels=48, kernel_size=11, padding=0, stride=4),\n",
    "            nn.ReLU(inplace=True),\n",
    "            nn.MaxPool2d(kernel_size=3, stride=2), \n",
    "            nn.LocalResponseNorm(size=5, k=2),\n",
    "            nn.Conv2d(in_channels=48, out_channels=128, kernel_size=5, padding=2, stride=1), \n",
    "            nn.ReLU(inplace=True),\n",
    "            nn.MaxPool2d(kernel_size=3, stride=2), \n",
    "            nn.LocalResponseNorm(size=5, k=2),\n",
    "        )\n",
    "        self.fstblock_2 = nn.Sequential(\n",
    "            # Input Channel (RGB: 3)\n",
    "            nn.Conv2d(in_channels=3, out_channels=48, kernel_size=11, padding=0, stride=4), \n",
    "            nn.ReLU(inplace=True),\n",
    "            nn.MaxPool2d(kernel_size=3, stride=2), \n",
    "            nn.LocalResponseNorm(size=5, k=2),\n",
    "            nn.Conv2d(in_channels=48, out_channels=128, kernel_size=5, padding=2, stride=1), \n",
    "            nn.ReLU(inplace=True),\n",
    "            nn.MaxPool2d(kernel_size=3, stride=2), \n",
    "            nn.LocalResponseNorm(size=5, k=2),\n",
    "        )\n",
    "\n",
    "        self.cross_conv_1 = nn.Sequential(\n",
    "            nn.Conv2d(in_channels=128, out_channels=96, kernel_size=3, padding=1, stride=1),\n",
    "            nn.ReLU(inplace=True),\n",
    "        )\n",
    "        self.cross_conv_2 = nn.Sequential(\n",
    "            nn.Conv2d(in_channels=128, out_channels=96, kernel_size=3, padding=1, stride=1),\n",
    "            nn.ReLU(inplace=True),\n",
    "        )\n",
    "\n",
    "        self.sndblock_1 = nn.Sequential(\n",
    "            nn.Conv2d(in_channels=192, out_channels=192, kernel_size=3, padding=1, stride=1),\n",
    "            nn.ReLU(inplace=True),\n",
    "            nn.Conv2d(in_channels=192, out_channels=128, kernel_size=3, padding=1, stride=1),\n",
    "            nn.ReLU(inplace=True),\n",
    "            nn.MaxPool2d(kernel_size=3, stride=2), \n",
    "        )\n",
    "        self.sndblock_2 = nn.Sequential(\n",
    "            nn.Conv2d(in_channels=192, out_channels=192, kernel_size=3, padding=1, stride=1),\n",
    "            nn.ReLU(inplace=True),\n",
    "            nn.Conv2d(in_channels=192, out_channels=128, kernel_size=3, padding=1, stride=1),\n",
    "            nn.ReLU(inplace=True),\n",
    "            nn.MaxPool2d(kernel_size=3, stride=2), \n",
    "        )\n",
    "\n",
    "        self.crossfc1_1 = nn.Sequential(\n",
    "            nn.Linear(128 * 6 * 6, 1024),\n",
    "            nn.ReLU(inplace=True),\n",
    "            nn.Dropout(p=0.5)\n",
    "        )\n",
    "        self.crossfc1_2 = nn.Sequential(\n",
    "            nn.Linear(128 * 6 * 6, 1024),\n",
    "            nn.ReLU(inplace=True),\n",
    "            nn.Dropout(p=0.5)\n",
    "        )\n",
    "\n",
    "        self.crossfc2_1 = nn.Sequential(\n",
    "            nn.Linear(2048, 1024),\n",
    "            nn.ReLU(inplace=True),\n",
    "            nn.Dropout(p=0.5)\n",
    "        )\n",
    "        self.crossfc2_2 = nn.Sequential(\n",
    "            nn.Linear(2048, 1024),\n",
    "            nn.ReLU(inplace=True),\n",
    "            nn.Dropout(p=0.5)\n",
    "        )\n",
    "\n",
    "        self.classifier_1 = nn.Linear(2048, num_classes)\n",
    "        self.classifier_2 = nn.Linear(2048, num_classes)\n",
    "    \n",
    "    def forward(self, x:torch.Tensor):\n",
    "        # First Block\n",
    "        x1 = self.fstblock_1(x)\n",
    "        x2 = self.fstblock_2(x)\n",
    "\n",
    "        # Cross\n",
    "        x3 = self.cross_conv_1(x1) # Left Block 1\n",
    "        x4 = self.cross_conv_2(x2) # Left Block 2\n",
    "\n",
    "        x5 = self.cross_conv_1(x1) # Right Block 1\n",
    "        x6 = self.cross_conv_2(x2) # Right Block 2\n",
    "\n",
    "        x1 = torch.cat([x3, x4], 1)\n",
    "        x2 = torch.cat([x5, x6], 1)\n",
    "\n",
    "        # Second Block\n",
    "        x1 = self.sndblock_1(x1)\n",
    "        x2 = self.sndblock_2(x2)\n",
    "\n",
    "        x1 = torch.flatten(x1, 1)\n",
    "        x2 = torch.flatten(x2, 1)\n",
    "\n",
    "        # FC Layer (Cross)\n",
    "        x3 = crossfc1_1(x1) # Left FC 1\n",
    "        x4 = crossfc1_2(x2) # Left FC 2\n",
    "\n",
    "        x5 = crossfc1_1(x1) # Right FC 1\n",
    "        x6 = crossfc1_2(x2) # Right FC 2\n",
    "\n",
    "        x1 = torch.cat([x3, x4], 1)\n",
    "        x2 = torch.cat([x5, x6], 1)\n",
    "\n",
    "        # FC Layer (Cross)\n",
    "        x3 = crossfc2_1(x1) # Left FC 1\n",
    "        x4 = crossfc2_2(x2) # Left FC 2\n",
    "\n",
    "        x5 = crossfc2_1(x1) # Right FC 1\n",
    "        x6 = crossfc2_2(x2) # Right FC 2\n",
    "\n",
    "        x1 = torch.cat([x3, x4], 1)\n",
    "        x2 = torch.cat([x5, x6], 1)\n",
    "\n",
    "        x1 = classifier_1(x1)\n",
    "        x2 = classifier_2(x2)\n",
    "\n",
    "        x = (x1 + x2)/2\n",
    "        return x"
   ]
  },
  {
   "cell_type": "markdown",
   "id": "418b1c20",
   "metadata": {},
   "source": [
    "## VGG16 Architecture"
   ]
  },
  {
   "cell_type": "markdown",
   "id": "b7394b29",
   "metadata": {},
   "source": [
    "<img src='https://blog.kakaocdn.net/dn/K990l/btqwDJ7C54R/664Ksm6gyTGBR1wK3YPDFk/img.png' /><br>"
   ]
  },
  {
   "cell_type": "markdown",
   "id": "482531e2",
   "metadata": {},
   "source": [
    "VGG16은 3x224x224 크기의 이미지에서 학습된 16 layer Convolutional Neural Network이다.   \n",
    "\n",
    "[Input – C1 – C2 – MaxPool2 – C3 – C4 – MaxPool4 – C5 – C6 – C7 – MaxPool7 – C8 – C9 – C10 – MaxPool10 – C11 – C12 – C13 – MaxPool13 – FC14 – FC15 – FC16(Output)]     \n",
    "\n",
    "**Input**  \n",
    "입력 이미지 3x224x224  \n",
    "    \n",
    "**Layer C1**  \n",
    "3x3 크기의 kernel 64개, stride=1, padding=1인 convolutional layer  \n",
    "입력 크기는 3x224x224 이고, 출력 크기는 64x224x224  \n",
    "**Layer C2**\n",
    "3x3 크기의 kernel 64개, stride=1, padding=1인 convolutional layer  \n",
    "입력 크기는 64x224x224 이고, 출력 크기는 64x224x224  \n",
    "**Layer Maxpool2**  \n",
    "2x2 크기의 kernel, stride=2인 maxpooling layer  \n",
    "입력 크기는 64x224x224 이고, 출력 크기는 64x112x112  \n",
    "    \n",
    "**Layer C3**  \n",
    "3x3 크기의 kernel 128개, stride=1, padding=1인 convolutional layer  \n",
    "입력 크기는 64x112x112 이고, 출력 크기는 128x112x112  \n",
    "**Layer C4**  \n",
    "3x3 크기의 kernel 128개, stride=1, padding=1인 convolutional layer  \n",
    "입력 크기는 128x112x112 이고, 출력 크기는 128x112x112  \n",
    "**Layer Maxpool4**  \n",
    "2x2 크기의 kernel, stride=2인 maxpooling layer  \n",
    "입력 크기는 128x112x112 이고, 출력 크기는 128x56x56  \n",
    "    \n",
    "**Layer C5**  \n",
    "3x3 크기의 kernel 256개, stride=1, padding=1인 convolutional layer  \n",
    "입력 크기는 128x56x56 이고, 출력 크기는 256x56x56  \n",
    "**Layer C6**  \n",
    "3x3 크기의 kernel 256개, stride=1, padding=1인 convolutional layer  \n",
    "입력 크기는 256x56x56 이고, 출력 크기는 256x56x56  \n",
    "**Layer C7**  \n",
    "3x3 크기의 kernel 256개, stride=1, padding=1인 convolutional layer  \n",
    "입력 크기는 256x56x56 이고, 출력 크기는 256x56x56  \n",
    "**Layer Maxpool7**  \n",
    "2x2 크기의 kernel, stride=2인 maxpooling layer  \n",
    "입력 크기는 256x56x56 이고, 출력 크기는 256x28x28  \n",
    "    \n",
    "**Layer C8**  \n",
    "3x3 크기의 kernel 512개, stride=1, padding=1인 convolutional layer  \n",
    "입력 크기는 256x28x28 이고, 출력 크기는 512x28x28  \n",
    "**Layer C9**  \n",
    "3x3 크기의 kernel 512개, stride=1, padding=1인 convolutional layer  \n",
    "입력 크기는 512x28x28 이고, 출력 크기는 512x28x28  \n",
    "**Layer C10**  \n",
    "3x3 크기의 kernel 512개, stride=1, padding=1인 convolutional layer  \n",
    "입력 크기는 512x28x28 이고, 출력 크기는 512x28x28  \n",
    "**Layer Maxpool10**  \n",
    "2x2 크기의 kernel, stride=2인 maxpooling layer  \n",
    "입력 크기는 512x28x28 이고, 출력 크기는 512x14x14  \n",
    "    \n",
    "**Layer C11**  \n",
    "3x3 크기의 kernel 512개, stride=1, padding=1인 convolutional layer  \n",
    "입력 크기는 512x14x14 이고, 출력 크기는 512x14x14  \n",
    "**Layer C12**  \n",
    "3x3 크기의 kernel 512개, stride=1, padding=1인 convolutional layer  \n",
    "입력 크기는 512x14x14 이고, 출력 크기는 512x14x14  \n",
    "**Layer C13**  \n",
    "3x3 크기의 kernel 512개, stride=1, padding=1인 convolutional layer  \n",
    "입력 크기는 512x14x14 이고, 출력 크기는 512x14x14  \n",
    "**Layer Maxpool13**  \n",
    "2x2 크기의 kernel, stride=2인 maxpooling layer  \n",
    "입력 크기는 512x14x14 이고, 출력 크기는 512x7x7  \n",
    "    \n",
    "**Layer F14**  \n",
    "ReLU를 활성화 함수로 이용하는 fully connected layer  \n",
    "입력 크기는 25088 이고, 출력 크기는 4096  \n",
    "**Layer F15**  \n",
    "ReLU를 활성화 함수로 이용하는 fully connected layer  \n",
    "입력 크기는 4096 이고, 출력 크기는 4096  \n",
    "**Layer F16**  \n",
    "ReLU를 활성화 함수로 이용하는 output layer  \n",
    "입력 크기는 4096 이고, 출력 크기는 1000  "
   ]
  },
  {
   "cell_type": "markdown",
   "id": "19066d90",
   "metadata": {},
   "source": [
    "VGG16 구조 정의하기"
   ]
  },
  {
   "cell_type": "code",
   "execution_count": null,
   "id": "4ed12e88",
   "metadata": {},
   "outputs": [],
   "source": [
    "class VGG_A(nn.Module):\n",
    "    def __init__(self, num_classes: int = 1000, init_weights: bool = True):\n",
    "        super(VGG_A, self).__init__()\n",
    "        self.convnet = nn.Sequential(\n",
    "            # Input Channel (RGB: 3)\n",
    "            nn.Conv2d(in_channels=3, out_channels=64, kernel_size=3, padding=1, stride=1), # conv1\n",
    "            nn.ReLU(inplace=True),\n",
    "            nn.Conv2d(in_channels=64, out_channels=64, kernel_size=3, padding=1, stride=1), # conv2\n",
    "            nn.ReLU(inplace=True),\n",
    "            nn.MaxPool2d(kernel_size=2, stride=2), # 224 -> 112   # maxpool2\n",
    "            \n",
    "            nn.Conv2d(in_channels=64, out_channels=128, kernel_size=3, padding=1, stride=1),  # conv3\n",
    "            nn.ReLU(inplace=True),\n",
    "            nn.Conv2d(in_channels=128, out_channels=128, kernel_size=3, padding=1, stride=1),  # conv4\n",
    "            nn.ReLU(inplace=True),\n",
    "            nn.MaxPool2d(kernel_size=2, stride=2), # 112 -> 56   # maxpool4\n",
    "            \n",
    "            nn.Conv2d(in_channels=128, out_channels=256, kernel_size=3, padding=1, stride=1),  #conv5\n",
    "            nn.ReLU(inplace=True),\n",
    "            nn.Conv2d(in_channels=256, out_channels=256, kernel_size=3, padding=1, stride=1),  # conv6\n",
    "            nn.ReLU(inplace=True),\n",
    "            nn.Conv2d(in_channels=256, out_channels=256, kernel_size=3, padding=1, stride=1),  # conv7\n",
    "            nn.ReLU(inplace=True),\n",
    "            nn.MaxPool2d(kernel_size=2, stride=2), # 56 -> 28   # maxpool7\n",
    "\n",
    "            nn.Conv2d(in_channels=256, out_channels=512, kernel_size=3, padding=1, stride=1),  # conv8\n",
    "            nn.ReLU(inplace=True),\n",
    "            nn.Conv2d(in_channels=512, out_channels=512, kernel_size=3, padding=1, stride=1),  # conv9\n",
    "            nn.ReLU(inplace=True),\n",
    "            nn.Conv2d(in_channels=512, out_channels=512, kernel_size=3, padding=1, stride=1),  # conv10\n",
    "            nn.ReLU(inplace=True),\n",
    "            nn.MaxPool2d(kernel_size=2, stride=2), # 28 -> 14   # maxpool10\n",
    "\n",
    "            nn.Conv2d(in_channels=512, out_channels=512, kernel_size=3, padding=1, stride=1),  # conv11\n",
    "            nn.ReLU(inplace=True),\n",
    "            nn.Conv2d(in_channels=512, out_channels=512, kernel_size=3, padding=1, stride=1),  # conv12\n",
    "            nn.ReLU(inplace=True),\n",
    "            nn.Conv2d(in_channels=512, out_channels=512, kernel_size=3, padding=1, stride=1),  # conv13\n",
    "            nn.ReLU(inplace=True),\n",
    "            nn.MaxPool2d(kernel_size=2, stride=2), # 14 -> 7   # maxpool13\n",
    "        )\n",
    "\n",
    "        self.fclayer = nn.Sequential(\n",
    "            nn.Linear(512 * 7 * 7, 4096),  # fc14\n",
    "            nn.ReLU(inplace=True),\n",
    "            nn.Dropout(p=0.5),\n",
    "            nn.Linear(4096, 4096),  # fc15\n",
    "            nn.ReLU(inplace=True),\n",
    "            nn.Dropout(p=0.5),\n",
    "            nn.Linear(4096, num_classes),  # fc16 = output\n",
    "            # nn.Softmax(dim=1), # Loss인 Cross Entropy Loss 에서 softmax를 포함한다.\n",
    "        )\n",
    "    \n",
    "    def forward(self, x:torch.Tensor):\n",
    "        x = self.convnet(x)\n",
    "        x = torch.flatten(x, 1)\n",
    "        x = self.fclayer(x)\n",
    "        return x"
   ]
  }
 ],
 "metadata": {
  "kernelspec": {
   "display_name": "Python 3",
   "language": "python",
   "name": "python3"
  },
  "language_info": {
   "codemirror_mode": {
    "name": "ipython",
    "version": 3
   },
   "file_extension": ".py",
   "mimetype": "text/x-python",
   "name": "python",
   "nbconvert_exporter": "python",
   "pygments_lexer": "ipython3",
   "version": "3.8.8"
  }
 },
 "nbformat": 4,
 "nbformat_minor": 5
}
